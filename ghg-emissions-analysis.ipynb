{
 "cells": [
  {
   "cell_type": "code",
   "execution_count": 2,
   "metadata": {},
   "outputs": [],
   "source": [
    "import numpy as np\n",
    "import pandas as pd\n",
    "import geopandas as gpd\n",
    "from matplotlib import pyplot as plt\n",
    "import seaborn as sns"
   ]
  },
  {
   "cell_type": "code",
   "execution_count": 22,
   "metadata": {},
   "outputs": [],
   "source": [
    "sns.set_palette(\"pastel\")"
   ]
  },
  {
   "cell_type": "markdown",
   "metadata": {},
   "source": [
    "## Loading dataset"
   ]
  },
  {
   "cell_type": "code",
   "execution_count": 3,
   "metadata": {},
   "outputs": [],
   "source": [
    "emitters_full = pd.read_csv('data/epa_facilities_report_emitters.csv')"
   ]
  },
  {
   "cell_type": "code",
   "execution_count": 4,
   "metadata": {},
   "outputs": [
    {
     "data": {
      "text/html": [
       "<div>\n",
       "<style scoped>\n",
       "    .dataframe tbody tr th:only-of-type {\n",
       "        vertical-align: middle;\n",
       "    }\n",
       "\n",
       "    .dataframe tbody tr th {\n",
       "        vertical-align: top;\n",
       "    }\n",
       "\n",
       "    .dataframe thead th {\n",
       "        text-align: right;\n",
       "    }\n",
       "</style>\n",
       "<table border=\"1\" class=\"dataframe\">\n",
       "  <thead>\n",
       "    <tr style=\"text-align: right;\">\n",
       "      <th></th>\n",
       "      <th>address1</th>\n",
       "      <th>address2</th>\n",
       "      <th>city</th>\n",
       "      <th>co2e_emission</th>\n",
       "      <th>county</th>\n",
       "      <th>facility_name</th>\n",
       "      <th>county_fips</th>\n",
       "      <th>gas_code</th>\n",
       "      <th>gas_name</th>\n",
       "      <th>facility_id</th>\n",
       "      <th>ghg_quantity</th>\n",
       "      <th>latitude</th>\n",
       "      <th>longitude</th>\n",
       "      <th>year</th>\n",
       "      <th>state</th>\n",
       "      <th>state_name</th>\n",
       "      <th>subpart_category</th>\n",
       "      <th>subpart_name</th>\n",
       "      <th>subpart_type</th>\n",
       "      <th>zip</th>\n",
       "    </tr>\n",
       "  </thead>\n",
       "  <tbody>\n",
       "    <tr>\n",
       "      <th>0</th>\n",
       "      <td>5105 LAKE TERRELL ROAD</td>\n",
       "      <td>NaN</td>\n",
       "      <td>FERNDALE</td>\n",
       "      <td>138.250</td>\n",
       "      <td>WHATCOM COUNTY</td>\n",
       "      <td>PSE Ferndale Generating Station</td>\n",
       "      <td>53073.0</td>\n",
       "      <td>CH4</td>\n",
       "      <td>Methane</td>\n",
       "      <td>1000001</td>\n",
       "      <td>5.530</td>\n",
       "      <td>48.828707</td>\n",
       "      <td>-122.685533</td>\n",
       "      <td>2010</td>\n",
       "      <td>WA</td>\n",
       "      <td>WASHINGTON</td>\n",
       "      <td>Stationary Combustion</td>\n",
       "      <td>C</td>\n",
       "      <td>E</td>\n",
       "      <td>98248</td>\n",
       "    </tr>\n",
       "    <tr>\n",
       "      <th>1</th>\n",
       "      <td>5105 LAKE TERRELL ROAD</td>\n",
       "      <td>NaN</td>\n",
       "      <td>FERNDALE</td>\n",
       "      <td>164.794</td>\n",
       "      <td>WHATCOM COUNTY</td>\n",
       "      <td>PSE Ferndale Generating Station</td>\n",
       "      <td>53073.0</td>\n",
       "      <td>N2O</td>\n",
       "      <td>Nitrous Oxide</td>\n",
       "      <td>1000001</td>\n",
       "      <td>0.553</td>\n",
       "      <td>48.828707</td>\n",
       "      <td>-122.685533</td>\n",
       "      <td>2010</td>\n",
       "      <td>WA</td>\n",
       "      <td>WASHINGTON</td>\n",
       "      <td>Stationary Combustion</td>\n",
       "      <td>C</td>\n",
       "      <td>E</td>\n",
       "      <td>98248</td>\n",
       "    </tr>\n",
       "    <tr>\n",
       "      <th>2</th>\n",
       "      <td>5105 LAKE TERRELL ROAD</td>\n",
       "      <td>NaN</td>\n",
       "      <td>FERNDALE</td>\n",
       "      <td>292987.900</td>\n",
       "      <td>WHATCOM COUNTY</td>\n",
       "      <td>PSE Ferndale Generating Station</td>\n",
       "      <td>53073.0</td>\n",
       "      <td>CO2</td>\n",
       "      <td>Carbon Dioxide</td>\n",
       "      <td>1000001</td>\n",
       "      <td>292987.900</td>\n",
       "      <td>48.828707</td>\n",
       "      <td>-122.685533</td>\n",
       "      <td>2010</td>\n",
       "      <td>WA</td>\n",
       "      <td>WASHINGTON</td>\n",
       "      <td>Stationary Combustion</td>\n",
       "      <td>C</td>\n",
       "      <td>E</td>\n",
       "      <td>98248</td>\n",
       "    </tr>\n",
       "    <tr>\n",
       "      <th>3</th>\n",
       "      <td>5105 LAKE TERRELL ROAD</td>\n",
       "      <td>NaN</td>\n",
       "      <td>FERNDALE</td>\n",
       "      <td>17.000</td>\n",
       "      <td>WHATCOM COUNTY</td>\n",
       "      <td>PSE Ferndale Generating Station</td>\n",
       "      <td>53073.0</td>\n",
       "      <td>CH4</td>\n",
       "      <td>Methane</td>\n",
       "      <td>1000001</td>\n",
       "      <td>0.680</td>\n",
       "      <td>48.828707</td>\n",
       "      <td>-122.685533</td>\n",
       "      <td>2011</td>\n",
       "      <td>WA</td>\n",
       "      <td>WASHINGTON</td>\n",
       "      <td>Stationary Combustion</td>\n",
       "      <td>C</td>\n",
       "      <td>E</td>\n",
       "      <td>98248</td>\n",
       "    </tr>\n",
       "    <tr>\n",
       "      <th>4</th>\n",
       "      <td>5105 LAKE TERRELL ROAD</td>\n",
       "      <td>NaN</td>\n",
       "      <td>FERNDALE</td>\n",
       "      <td>20.264</td>\n",
       "      <td>WHATCOM COUNTY</td>\n",
       "      <td>PSE Ferndale Generating Station</td>\n",
       "      <td>53073.0</td>\n",
       "      <td>N2O</td>\n",
       "      <td>Nitrous Oxide</td>\n",
       "      <td>1000001</td>\n",
       "      <td>0.068</td>\n",
       "      <td>48.828707</td>\n",
       "      <td>-122.685533</td>\n",
       "      <td>2011</td>\n",
       "      <td>WA</td>\n",
       "      <td>WASHINGTON</td>\n",
       "      <td>Stationary Combustion</td>\n",
       "      <td>C</td>\n",
       "      <td>E</td>\n",
       "      <td>98248</td>\n",
       "    </tr>\n",
       "  </tbody>\n",
       "</table>\n",
       "</div>"
      ],
      "text/plain": [
       "                 address1  address2      city  co2e_emission          county  \\\n",
       "0  5105 LAKE TERRELL ROAD       NaN  FERNDALE        138.250  WHATCOM COUNTY   \n",
       "1  5105 LAKE TERRELL ROAD       NaN  FERNDALE        164.794  WHATCOM COUNTY   \n",
       "2  5105 LAKE TERRELL ROAD       NaN  FERNDALE     292987.900  WHATCOM COUNTY   \n",
       "3  5105 LAKE TERRELL ROAD       NaN  FERNDALE         17.000  WHATCOM COUNTY   \n",
       "4  5105 LAKE TERRELL ROAD       NaN  FERNDALE         20.264  WHATCOM COUNTY   \n",
       "\n",
       "                     facility_name  county_fips gas_code        gas_name  \\\n",
       "0  PSE Ferndale Generating Station      53073.0      CH4         Methane   \n",
       "1  PSE Ferndale Generating Station      53073.0      N2O   Nitrous Oxide   \n",
       "2  PSE Ferndale Generating Station      53073.0      CO2  Carbon Dioxide   \n",
       "3  PSE Ferndale Generating Station      53073.0      CH4         Methane   \n",
       "4  PSE Ferndale Generating Station      53073.0      N2O   Nitrous Oxide   \n",
       "\n",
       "   facility_id  ghg_quantity   latitude   longitude  year state  state_name  \\\n",
       "0      1000001         5.530  48.828707 -122.685533  2010    WA  WASHINGTON   \n",
       "1      1000001         0.553  48.828707 -122.685533  2010    WA  WASHINGTON   \n",
       "2      1000001    292987.900  48.828707 -122.685533  2010    WA  WASHINGTON   \n",
       "3      1000001         0.680  48.828707 -122.685533  2011    WA  WASHINGTON   \n",
       "4      1000001         0.068  48.828707 -122.685533  2011    WA  WASHINGTON   \n",
       "\n",
       "        subpart_category subpart_name subpart_type    zip  \n",
       "0  Stationary Combustion            C            E  98248  \n",
       "1  Stationary Combustion            C            E  98248  \n",
       "2  Stationary Combustion            C            E  98248  \n",
       "3  Stationary Combustion            C            E  98248  \n",
       "4  Stationary Combustion            C            E  98248  "
      ]
     },
     "execution_count": 4,
     "metadata": {},
     "output_type": "execute_result"
    }
   ],
   "source": [
    "emitters_full.head()"
   ]
  },
  {
   "cell_type": "markdown",
   "metadata": {},
   "source": [
    "## Cleaning dataset"
   ]
  },
  {
   "cell_type": "markdown",
   "metadata": {},
   "source": [
    "We don't need all the data in the dataset, so we just select the columns of interest to us."
   ]
  },
  {
   "cell_type": "code",
   "execution_count": 5,
   "metadata": {},
   "outputs": [
    {
     "data": {
      "text/html": [
       "<div>\n",
       "<style scoped>\n",
       "    .dataframe tbody tr th:only-of-type {\n",
       "        vertical-align: middle;\n",
       "    }\n",
       "\n",
       "    .dataframe tbody tr th {\n",
       "        vertical-align: top;\n",
       "    }\n",
       "\n",
       "    .dataframe thead th {\n",
       "        text-align: right;\n",
       "    }\n",
       "</style>\n",
       "<table border=\"1\" class=\"dataframe\">\n",
       "  <thead>\n",
       "    <tr style=\"text-align: right;\">\n",
       "      <th></th>\n",
       "      <th>co2e_emission</th>\n",
       "      <th>facility_name</th>\n",
       "      <th>gas_code</th>\n",
       "      <th>gas_name</th>\n",
       "      <th>ghg_quantity</th>\n",
       "      <th>latitude</th>\n",
       "      <th>longitude</th>\n",
       "      <th>year</th>\n",
       "      <th>state</th>\n",
       "      <th>state_name</th>\n",
       "      <th>subpart_category</th>\n",
       "      <th>subpart_name</th>\n",
       "    </tr>\n",
       "  </thead>\n",
       "  <tbody>\n",
       "    <tr>\n",
       "      <th>0</th>\n",
       "      <td>138.250</td>\n",
       "      <td>PSE Ferndale Generating Station</td>\n",
       "      <td>CH4</td>\n",
       "      <td>Methane</td>\n",
       "      <td>5.530</td>\n",
       "      <td>48.828707</td>\n",
       "      <td>-122.685533</td>\n",
       "      <td>2010</td>\n",
       "      <td>WA</td>\n",
       "      <td>WASHINGTON</td>\n",
       "      <td>Stationary Combustion</td>\n",
       "      <td>C</td>\n",
       "    </tr>\n",
       "    <tr>\n",
       "      <th>1</th>\n",
       "      <td>164.794</td>\n",
       "      <td>PSE Ferndale Generating Station</td>\n",
       "      <td>N2O</td>\n",
       "      <td>Nitrous Oxide</td>\n",
       "      <td>0.553</td>\n",
       "      <td>48.828707</td>\n",
       "      <td>-122.685533</td>\n",
       "      <td>2010</td>\n",
       "      <td>WA</td>\n",
       "      <td>WASHINGTON</td>\n",
       "      <td>Stationary Combustion</td>\n",
       "      <td>C</td>\n",
       "    </tr>\n",
       "    <tr>\n",
       "      <th>2</th>\n",
       "      <td>292987.900</td>\n",
       "      <td>PSE Ferndale Generating Station</td>\n",
       "      <td>CO2</td>\n",
       "      <td>Carbon Dioxide</td>\n",
       "      <td>292987.900</td>\n",
       "      <td>48.828707</td>\n",
       "      <td>-122.685533</td>\n",
       "      <td>2010</td>\n",
       "      <td>WA</td>\n",
       "      <td>WASHINGTON</td>\n",
       "      <td>Stationary Combustion</td>\n",
       "      <td>C</td>\n",
       "    </tr>\n",
       "    <tr>\n",
       "      <th>3</th>\n",
       "      <td>17.000</td>\n",
       "      <td>PSE Ferndale Generating Station</td>\n",
       "      <td>CH4</td>\n",
       "      <td>Methane</td>\n",
       "      <td>0.680</td>\n",
       "      <td>48.828707</td>\n",
       "      <td>-122.685533</td>\n",
       "      <td>2011</td>\n",
       "      <td>WA</td>\n",
       "      <td>WASHINGTON</td>\n",
       "      <td>Stationary Combustion</td>\n",
       "      <td>C</td>\n",
       "    </tr>\n",
       "    <tr>\n",
       "      <th>4</th>\n",
       "      <td>20.264</td>\n",
       "      <td>PSE Ferndale Generating Station</td>\n",
       "      <td>N2O</td>\n",
       "      <td>Nitrous Oxide</td>\n",
       "      <td>0.068</td>\n",
       "      <td>48.828707</td>\n",
       "      <td>-122.685533</td>\n",
       "      <td>2011</td>\n",
       "      <td>WA</td>\n",
       "      <td>WASHINGTON</td>\n",
       "      <td>Stationary Combustion</td>\n",
       "      <td>C</td>\n",
       "    </tr>\n",
       "  </tbody>\n",
       "</table>\n",
       "</div>"
      ],
      "text/plain": [
       "   co2e_emission                    facility_name gas_code        gas_name  \\\n",
       "0        138.250  PSE Ferndale Generating Station      CH4         Methane   \n",
       "1        164.794  PSE Ferndale Generating Station      N2O   Nitrous Oxide   \n",
       "2     292987.900  PSE Ferndale Generating Station      CO2  Carbon Dioxide   \n",
       "3         17.000  PSE Ferndale Generating Station      CH4         Methane   \n",
       "4         20.264  PSE Ferndale Generating Station      N2O   Nitrous Oxide   \n",
       "\n",
       "   ghg_quantity   latitude   longitude  year state  state_name  \\\n",
       "0         5.530  48.828707 -122.685533  2010    WA  WASHINGTON   \n",
       "1         0.553  48.828707 -122.685533  2010    WA  WASHINGTON   \n",
       "2    292987.900  48.828707 -122.685533  2010    WA  WASHINGTON   \n",
       "3         0.680  48.828707 -122.685533  2011    WA  WASHINGTON   \n",
       "4         0.068  48.828707 -122.685533  2011    WA  WASHINGTON   \n",
       "\n",
       "        subpart_category subpart_name  \n",
       "0  Stationary Combustion            C  \n",
       "1  Stationary Combustion            C  \n",
       "2  Stationary Combustion            C  \n",
       "3  Stationary Combustion            C  \n",
       "4  Stationary Combustion            C  "
      ]
     },
     "execution_count": 5,
     "metadata": {},
     "output_type": "execute_result"
    }
   ],
   "source": [
    "emitters = emitters_full[['co2e_emission', 'facility_name', 'gas_code', 'gas_name',\n",
    "                          'ghg_quantity', 'latitude', 'longitude', 'year', 'state',\n",
    "                          'state_name', 'subpart_category', 'subpart_name']]\n",
    "\n",
    "emitters.head()"
   ]
  },
  {
   "cell_type": "markdown",
   "metadata": {},
   "source": [
    "## EDA"
   ]
  },
  {
   "cell_type": "markdown",
   "metadata": {},
   "source": [
    "Let's see how the total emissions have developed over the years.\n"
   ]
  },
  {
   "cell_type": "code",
   "execution_count": 61,
   "metadata": {},
   "outputs": [
    {
     "name": "stderr",
     "output_type": "stream",
     "text": [
      "/Users/dario/Repos/ghg-emissions-usa/venv/lib/python3.9/site-packages/seaborn/_oldcore.py:1498: FutureWarning: is_categorical_dtype is deprecated and will be removed in a future version. Use isinstance(dtype, CategoricalDtype) instead\n",
      "  if pd.api.types.is_categorical_dtype(vector):\n",
      "/Users/dario/Repos/ghg-emissions-usa/venv/lib/python3.9/site-packages/seaborn/_oldcore.py:1498: FutureWarning: is_categorical_dtype is deprecated and will be removed in a future version. Use isinstance(dtype, CategoricalDtype) instead\n",
      "  if pd.api.types.is_categorical_dtype(vector):\n",
      "/Users/dario/Repos/ghg-emissions-usa/venv/lib/python3.9/site-packages/seaborn/_oldcore.py:1498: FutureWarning: is_categorical_dtype is deprecated and will be removed in a future version. Use isinstance(dtype, CategoricalDtype) instead\n",
      "  if pd.api.types.is_categorical_dtype(vector):\n"
     ]
    },
    {
     "data": {
      "image/png": "[encoded data removed]",
      "text/plain": [
       "<Figure size 600x400 with 1 Axes>"
      ]
     },
     "metadata": {},
     "output_type": "display_data"
    }
   ],
   "source": [
    "emissions_per_year = emitters.groupby(\"year\")[\"co2e_emission\"].sum().reset_index()\n",
    "#print(emissions_per_year)\n",
    "plt.figure(figsize=(6, 4))\n",
    "sns.barplot(data=emissions_per_year, x=\"year\", y=\"co2e_emission\", color=\"steelblue\")\n",
    "plt.xlabel('Year')\n",
    "plt.ylabel('Total Emissions in CO2e')\n",
    "plt.title('Total Emissions Reported per Year')\n",
    "plt.xticks(rotation=45)\n",
    "plt.show()"
   ]
  },
  {
   "cell_type": "markdown",
   "metadata": {},
   "source": [
    "It seems that there is a slight downward trend in the total emissions. However, we also need to look at how many facilities did report their emissions in those years."
   ]
  },
  {
   "cell_type": "markdown",
   "metadata": {},
   "source": []
  },
  {
   "cell_type": "code",
   "execution_count": 59,
   "metadata": {},
   "outputs": [
    {
     "name": "stderr",
     "output_type": "stream",
     "text": [
      "/Users/dario/Repos/ghg-emissions-usa/venv/lib/python3.9/site-packages/seaborn/_oldcore.py:1498: FutureWarning: is_categorical_dtype is deprecated and will be removed in a future version. Use isinstance(dtype, CategoricalDtype) instead\n",
      "  if pd.api.types.is_categorical_dtype(vector):\n",
      "/Users/dario/Repos/ghg-emissions-usa/venv/lib/python3.9/site-packages/seaborn/_oldcore.py:1498: FutureWarning: is_categorical_dtype is deprecated and will be removed in a future version. Use isinstance(dtype, CategoricalDtype) instead\n",
      "  if pd.api.types.is_categorical_dtype(vector):\n",
      "/Users/dario/Repos/ghg-emissions-usa/venv/lib/python3.9/site-packages/seaborn/_oldcore.py:1498: FutureWarning: is_categorical_dtype is deprecated and will be removed in a future version. Use isinstance(dtype, CategoricalDtype) instead\n",
      "  if pd.api.types.is_categorical_dtype(vector):\n"
     ]
    },
    {
     "data": {
      "image/png": "[encoded data removed]",
      "text/plain": [
       "<Figure size 600x400 with 1 Axes>"
      ]
     },
     "metadata": {},
     "output_type": "display_data"
    }
   ],
   "source": [
    "facilities_per_year = emitters.groupby(\"year\")[\"facility_name\"].nunique().reset_index()\n",
    "facilities_per_year.columns = ['year', 'distinct_facility_count']\n",
    "\n",
    "\n",
    "plt.figure(figsize=(6, 4))\n",
    "sns.barplot(data=facilities_per_year, x=\"year\", y=\"distinct_facility_count\", color=\"steelblue\")\n",
    "plt.xlabel('Year')\n",
    "plt.ylabel('Total Number of Reporting Facilities')\n",
    "plt.title('Total Reporting Facilities per Year')\n",
    "plt.xticks(rotation=45)\n",
    "plt.show()"
   ]
  },
  {
   "cell_type": "code",
   "execution_count": null,
   "metadata": {},
   "outputs": [],
   "source": []
  }
 ],
 "metadata": {
  "kernelspec": {
   "display_name": "venv",
   "language": "python",
   "name": "python3"
  },
  "language_info": {
   "codemirror_mode": {
    "name": "ipython",
    "version": 3
   },
   "file_extension": ".py",
   "mimetype": "text/x-python",
   "name": "python",
   "nbconvert_exporter": "python",
   "pygments_lexer": "ipython3",
   "version": "3.9.6"
  },
  "orig_nbformat": 4
 },
 "nbformat": 4,
 "nbformat_minor": 2
}
